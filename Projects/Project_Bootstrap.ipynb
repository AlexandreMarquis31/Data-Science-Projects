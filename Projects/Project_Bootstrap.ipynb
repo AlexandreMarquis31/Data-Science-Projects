{
 "nbformat": 4,
 "nbformat_minor": 0,
 "metadata": {
  "colab": {
   "name": "FinalV1_Project_Bootstrap_TeamonPumba_fin.ipynb",
   "provenance": []
  },
  "kernelspec": {
   "name": "python3",
   "display_name": "Python 3"
  },
  "widgets": {
   "application/vnd.jupyter.widget-state+json": {
    "caa1012b51174cf5adfb66d095df3857": {
     "model_module": "@jupyter-widgets/controls",
     "model_name": "HBoxModel",
     "state": {
      "_view_name": "HBoxView",
      "_dom_classes": [],
      "_model_name": "HBoxModel",
      "_view_module": "@jupyter-widgets/controls",
      "_model_module_version": "1.5.0",
      "_view_count": null,
      "_view_module_version": "1.5.0",
      "box_style": "",
      "layout": "IPY_MODEL_cfb2571baacb46f091d75137bd509dd4",
      "_model_module": "@jupyter-widgets/controls",
      "children": [
       "IPY_MODEL_243ccb4310ff4ea092e867a546b49573",
       "IPY_MODEL_ffc9f51b27f84719b94bf5f64cc98a16"
      ]
     }
    },
    "cfb2571baacb46f091d75137bd509dd4": {
     "model_module": "@jupyter-widgets/base",
     "model_name": "LayoutModel",
     "state": {
      "_view_name": "LayoutView",
      "grid_template_rows": null,
      "right": null,
      "justify_content": null,
      "_view_module": "@jupyter-widgets/base",
      "overflow": null,
      "_model_module_version": "1.2.0",
      "_view_count": null,
      "flex_flow": null,
      "width": null,
      "min_width": null,
      "border": null,
      "align_items": null,
      "bottom": null,
      "_model_module": "@jupyter-widgets/base",
      "top": null,
      "grid_column": null,
      "overflow_y": null,
      "overflow_x": null,
      "grid_auto_flow": null,
      "grid_area": null,
      "grid_template_columns": null,
      "flex": null,
      "_model_name": "LayoutModel",
      "justify_items": null,
      "grid_row": null,
      "max_height": null,
      "align_content": null,
      "visibility": null,
      "align_self": null,
      "height": null,
      "min_height": null,
      "padding": null,
      "grid_auto_rows": null,
      "grid_gap": null,
      "max_width": null,
      "order": null,
      "_view_module_version": "1.2.0",
      "grid_template_areas": null,
      "object_position": null,
      "object_fit": null,
      "grid_auto_columns": null,
      "margin": null,
      "display": null,
      "left": null
     }
    },
    "243ccb4310ff4ea092e867a546b49573": {
     "model_module": "@jupyter-widgets/controls",
     "model_name": "FloatProgressModel",
     "state": {
      "_view_name": "ProgressView",
      "style": "IPY_MODEL_038445fd49de4a28b0124443f7e3bc4f",
      "_dom_classes": [],
      "description": "100%",
      "_model_name": "FloatProgressModel",
      "bar_style": "success",
      "max": 100,
      "_view_module": "@jupyter-widgets/controls",
      "_model_module_version": "1.5.0",
      "value": 100,
      "_view_count": null,
      "_view_module_version": "1.5.0",
      "orientation": "horizontal",
      "min": 0,
      "description_tooltip": null,
      "_model_module": "@jupyter-widgets/controls",
      "layout": "IPY_MODEL_1b770b8de5c34ee59291cea4baa67724"
     }
    },
    "ffc9f51b27f84719b94bf5f64cc98a16": {
     "model_module": "@jupyter-widgets/controls",
     "model_name": "HTMLModel",
     "state": {
      "_view_name": "HTMLView",
      "style": "IPY_MODEL_ebb31df2033f4c9ea7cfaa5a78370346",
      "_dom_classes": [],
      "description": "",
      "_model_name": "HTMLModel",
      "placeholder": "​",
      "_view_module": "@jupyter-widgets/controls",
      "_model_module_version": "1.5.0",
      "value": " 100/100 [01:40&lt;00:00,  1.00s/it]",
      "_view_count": null,
      "_view_module_version": "1.5.0",
      "description_tooltip": null,
      "_model_module": "@jupyter-widgets/controls",
      "layout": "IPY_MODEL_0d498c82d53c4534a9b7330c66e2c478"
     }
    },
    "038445fd49de4a28b0124443f7e3bc4f": {
     "model_module": "@jupyter-widgets/controls",
     "model_name": "ProgressStyleModel",
     "state": {
      "_view_name": "StyleView",
      "_model_name": "ProgressStyleModel",
      "description_width": "initial",
      "_view_module": "@jupyter-widgets/base",
      "_model_module_version": "1.5.0",
      "_view_count": null,
      "_view_module_version": "1.2.0",
      "bar_color": null,
      "_model_module": "@jupyter-widgets/controls"
     }
    },
    "1b770b8de5c34ee59291cea4baa67724": {
     "model_module": "@jupyter-widgets/base",
     "model_name": "LayoutModel",
     "state": {
      "_view_name": "LayoutView",
      "grid_template_rows": null,
      "right": null,
      "justify_content": null,
      "_view_module": "@jupyter-widgets/base",
      "overflow": null,
      "_model_module_version": "1.2.0",
      "_view_count": null,
      "flex_flow": null,
      "width": null,
      "min_width": null,
      "border": null,
      "align_items": null,
      "bottom": null,
      "_model_module": "@jupyter-widgets/base",
      "top": null,
      "grid_column": null,
      "overflow_y": null,
      "overflow_x": null,
      "grid_auto_flow": null,
      "grid_area": null,
      "grid_template_columns": null,
      "flex": null,
      "_model_name": "LayoutModel",
      "justify_items": null,
      "grid_row": null,
      "max_height": null,
      "align_content": null,
      "visibility": null,
      "align_self": null,
      "height": null,
      "min_height": null,
      "padding": null,
      "grid_auto_rows": null,
      "grid_gap": null,
      "max_width": null,
      "order": null,
      "_view_module_version": "1.2.0",
      "grid_template_areas": null,
      "object_position": null,
      "object_fit": null,
      "grid_auto_columns": null,
      "margin": null,
      "display": null,
      "left": null
     }
    },
    "ebb31df2033f4c9ea7cfaa5a78370346": {
     "model_module": "@jupyter-widgets/controls",
     "model_name": "DescriptionStyleModel",
     "state": {
      "_view_name": "StyleView",
      "_model_name": "DescriptionStyleModel",
      "description_width": "",
      "_view_module": "@jupyter-widgets/base",
      "_model_module_version": "1.5.0",
      "_view_count": null,
      "_view_module_version": "1.2.0",
      "_model_module": "@jupyter-widgets/controls"
     }
    },
    "0d498c82d53c4534a9b7330c66e2c478": {
     "model_module": "@jupyter-widgets/base",
     "model_name": "LayoutModel",
     "state": {
      "_view_name": "LayoutView",
      "grid_template_rows": null,
      "right": null,
      "justify_content": null,
      "_view_module": "@jupyter-widgets/base",
      "overflow": null,
      "_model_module_version": "1.2.0",
      "_view_count": null,
      "flex_flow": null,
      "width": null,
      "min_width": null,
      "border": null,
      "align_items": null,
      "bottom": null,
      "_model_module": "@jupyter-widgets/base",
      "top": null,
      "grid_column": null,
      "overflow_y": null,
      "overflow_x": null,
      "grid_auto_flow": null,
      "grid_area": null,
      "grid_template_columns": null,
      "flex": null,
      "_model_name": "LayoutModel",
      "justify_items": null,
      "grid_row": null,
      "max_height": null,
      "align_content": null,
      "visibility": null,
      "align_self": null,
      "height": null,
      "min_height": null,
      "padding": null,
      "grid_auto_rows": null,
      "grid_gap": null,
      "max_width": null,
      "order": null,
      "_view_module_version": "1.2.0",
      "grid_template_areas": null,
      "object_position": null,
      "object_fit": null,
      "grid_auto_columns": null,
      "margin": null,
      "display": null,
      "left": null
     }
    },
    "255b072c0ffc45ceae39cd43d30f41c2": {
     "model_module": "@jupyter-widgets/controls",
     "model_name": "HBoxModel",
     "state": {
      "_view_name": "HBoxView",
      "_dom_classes": [],
      "_model_name": "HBoxModel",
      "_view_module": "@jupyter-widgets/controls",
      "_model_module_version": "1.5.0",
      "_view_count": null,
      "_view_module_version": "1.5.0",
      "box_style": "",
      "layout": "IPY_MODEL_bab3491b929a4126812803556ab66eab",
      "_model_module": "@jupyter-widgets/controls",
      "children": [
       "IPY_MODEL_f376955e1a13478791e182614975111a",
       "IPY_MODEL_c66d8a33f7b14e36a0066ae4cde5fdb5"
      ]
     }
    },
    "bab3491b929a4126812803556ab66eab": {
     "model_module": "@jupyter-widgets/base",
     "model_name": "LayoutModel",
     "state": {
      "_view_name": "LayoutView",
      "grid_template_rows": null,
      "right": null,
      "justify_content": null,
      "_view_module": "@jupyter-widgets/base",
      "overflow": null,
      "_model_module_version": "1.2.0",
      "_view_count": null,
      "flex_flow": null,
      "width": null,
      "min_width": null,
      "border": null,
      "align_items": null,
      "bottom": null,
      "_model_module": "@jupyter-widgets/base",
      "top": null,
      "grid_column": null,
      "overflow_y": null,
      "overflow_x": null,
      "grid_auto_flow": null,
      "grid_area": null,
      "grid_template_columns": null,
      "flex": null,
      "_model_name": "LayoutModel",
      "justify_items": null,
      "grid_row": null,
      "max_height": null,
      "align_content": null,
      "visibility": null,
      "align_self": null,
      "height": null,
      "min_height": null,
      "padding": null,
      "grid_auto_rows": null,
      "grid_gap": null,
      "max_width": null,
      "order": null,
      "_view_module_version": "1.2.0",
      "grid_template_areas": null,
      "object_position": null,
      "object_fit": null,
      "grid_auto_columns": null,
      "margin": null,
      "display": null,
      "left": null
     }
    },
    "f376955e1a13478791e182614975111a": {
     "model_module": "@jupyter-widgets/controls",
     "model_name": "FloatProgressModel",
     "state": {
      "_view_name": "ProgressView",
      "style": "IPY_MODEL_a768dc48989f489d9d33e600bb8588f5",
      "_dom_classes": [],
      "description": "100%",
      "_model_name": "FloatProgressModel",
      "bar_style": "success",
      "max": 100,
      "_view_module": "@jupyter-widgets/controls",
      "_model_module_version": "1.5.0",
      "value": 100,
      "_view_count": null,
      "_view_module_version": "1.5.0",
      "orientation": "horizontal",
      "min": 0,
      "description_tooltip": null,
      "_model_module": "@jupyter-widgets/controls",
      "layout": "IPY_MODEL_e40145e7530245a785a194698925139f"
     }
    },
    "c66d8a33f7b14e36a0066ae4cde5fdb5": {
     "model_module": "@jupyter-widgets/controls",
     "model_name": "HTMLModel",
     "state": {
      "_view_name": "HTMLView",
      "style": "IPY_MODEL_6f1ebc0583c54809b8b2c4b2f97768a6",
      "_dom_classes": [],
      "description": "",
      "_model_name": "HTMLModel",
      "placeholder": "​",
      "_view_module": "@jupyter-widgets/controls",
      "_model_module_version": "1.5.0",
      "value": " 100/100 [02:44&lt;00:00,  1.64s/it]",
      "_view_count": null,
      "_view_module_version": "1.5.0",
      "description_tooltip": null,
      "_model_module": "@jupyter-widgets/controls",
      "layout": "IPY_MODEL_7e874196e701449287a878c887f5aafc"
     }
    },
    "a768dc48989f489d9d33e600bb8588f5": {
     "model_module": "@jupyter-widgets/controls",
     "model_name": "ProgressStyleModel",
     "state": {
      "_view_name": "StyleView",
      "_model_name": "ProgressStyleModel",
      "description_width": "initial",
      "_view_module": "@jupyter-widgets/base",
      "_model_module_version": "1.5.0",
      "_view_count": null,
      "_view_module_version": "1.2.0",
      "bar_color": null,
      "_model_module": "@jupyter-widgets/controls"
     }
    },
    "e40145e7530245a785a194698925139f": {
     "model_module": "@jupyter-widgets/base",
     "model_name": "LayoutModel",
     "state": {
      "_view_name": "LayoutView",
      "grid_template_rows": null,
      "right": null,
      "justify_content": null,
      "_view_module": "@jupyter-widgets/base",
      "overflow": null,
      "_model_module_version": "1.2.0",
      "_view_count": null,
      "flex_flow": null,
      "width": null,
      "min_width": null,
      "border": null,
      "align_items": null,
      "bottom": null,
      "_model_module": "@jupyter-widgets/base",
      "top": null,
      "grid_column": null,
      "overflow_y": null,
      "overflow_x": null,
      "grid_auto_flow": null,
      "grid_area": null,
      "grid_template_columns": null,
      "flex": null,
      "_model_name": "LayoutModel",
      "justify_items": null,
      "grid_row": null,
      "max_height": null,
      "align_content": null,
      "visibility": null,
      "align_self": null,
      "height": null,
      "min_height": null,
      "padding": null,
      "grid_auto_rows": null,
      "grid_gap": null,
      "max_width": null,
      "order": null,
      "_view_module_version": "1.2.0",
      "grid_template_areas": null,
      "object_position": null,
      "object_fit": null,
      "grid_auto_columns": null,
      "margin": null,
      "display": null,
      "left": null
     }
    },
    "6f1ebc0583c54809b8b2c4b2f97768a6": {
     "model_module": "@jupyter-widgets/controls",
     "model_name": "DescriptionStyleModel",
     "state": {
      "_view_name": "StyleView",
      "_model_name": "DescriptionStyleModel",
      "description_width": "",
      "_view_module": "@jupyter-widgets/base",
      "_model_module_version": "1.5.0",
      "_view_count": null,
      "_view_module_version": "1.2.0",
      "_model_module": "@jupyter-widgets/controls"
     }
    },
    "7e874196e701449287a878c887f5aafc": {
     "model_module": "@jupyter-widgets/base",
     "model_name": "LayoutModel",
     "state": {
      "_view_name": "LayoutView",
      "grid_template_rows": null,
      "right": null,
      "justify_content": null,
      "_view_module": "@jupyter-widgets/base",
      "overflow": null,
      "_model_module_version": "1.2.0",
      "_view_count": null,
      "flex_flow": null,
      "width": null,
      "min_width": null,
      "border": null,
      "align_items": null,
      "bottom": null,
      "_model_module": "@jupyter-widgets/base",
      "top": null,
      "grid_column": null,
      "overflow_y": null,
      "overflow_x": null,
      "grid_auto_flow": null,
      "grid_area": null,
      "grid_template_columns": null,
      "flex": null,
      "_model_name": "LayoutModel",
      "justify_items": null,
      "grid_row": null,
      "max_height": null,
      "align_content": null,
      "visibility": null,
      "align_self": null,
      "height": null,
      "min_height": null,
      "padding": null,
      "grid_auto_rows": null,
      "grid_gap": null,
      "max_width": null,
      "order": null,
      "_view_module_version": "1.2.0",
      "grid_template_areas": null,
      "object_position": null,
      "object_fit": null,
      "grid_auto_columns": null,
      "margin": null,
      "display": null,
      "left": null
     }
    },
    "79eb96b5ba0648068f78ebb8698c8bc1": {
     "model_module": "@jupyter-widgets/controls",
     "model_name": "HBoxModel",
     "state": {
      "_view_name": "HBoxView",
      "_dom_classes": [],
      "_model_name": "HBoxModel",
      "_view_module": "@jupyter-widgets/controls",
      "_model_module_version": "1.5.0",
      "_view_count": null,
      "_view_module_version": "1.5.0",
      "box_style": "",
      "layout": "IPY_MODEL_aa4c22f7adbe41d587513b3a258cafd3",
      "_model_module": "@jupyter-widgets/controls",
      "children": [
       "IPY_MODEL_27c783faa1dc48a0bbd959cb5855c5a1",
       "IPY_MODEL_ce630b7142dc49f79aa3b2ae1bfc9f09"
      ]
     }
    },
    "aa4c22f7adbe41d587513b3a258cafd3": {
     "model_module": "@jupyter-widgets/base",
     "model_name": "LayoutModel",
     "state": {
      "_view_name": "LayoutView",
      "grid_template_rows": null,
      "right": null,
      "justify_content": null,
      "_view_module": "@jupyter-widgets/base",
      "overflow": null,
      "_model_module_version": "1.2.0",
      "_view_count": null,
      "flex_flow": null,
      "width": null,
      "min_width": null,
      "border": null,
      "align_items": null,
      "bottom": null,
      "_model_module": "@jupyter-widgets/base",
      "top": null,
      "grid_column": null,
      "overflow_y": null,
      "overflow_x": null,
      "grid_auto_flow": null,
      "grid_area": null,
      "grid_template_columns": null,
      "flex": null,
      "_model_name": "LayoutModel",
      "justify_items": null,
      "grid_row": null,
      "max_height": null,
      "align_content": null,
      "visibility": null,
      "align_self": null,
      "height": null,
      "min_height": null,
      "padding": null,
      "grid_auto_rows": null,
      "grid_gap": null,
      "max_width": null,
      "order": null,
      "_view_module_version": "1.2.0",
      "grid_template_areas": null,
      "object_position": null,
      "object_fit": null,
      "grid_auto_columns": null,
      "margin": null,
      "display": null,
      "left": null
     }
    },
    "27c783faa1dc48a0bbd959cb5855c5a1": {
     "model_module": "@jupyter-widgets/controls",
     "model_name": "FloatProgressModel",
     "state": {
      "_view_name": "ProgressView",
      "style": "IPY_MODEL_c2a013e9d2544fd0a2b97287fab3bd35",
      "_dom_classes": [],
      "description": "100%",
      "_model_name": "FloatProgressModel",
      "bar_style": "success",
      "max": 100,
      "_view_module": "@jupyter-widgets/controls",
      "_model_module_version": "1.5.0",
      "value": 100,
      "_view_count": null,
      "_view_module_version": "1.5.0",
      "orientation": "horizontal",
      "min": 0,
      "description_tooltip": null,
      "_model_module": "@jupyter-widgets/controls",
      "layout": "IPY_MODEL_5da1e4a7f54549149f7adf86f5e2bd25"
     }
    },
    "ce630b7142dc49f79aa3b2ae1bfc9f09": {
     "model_module": "@jupyter-widgets/controls",
     "model_name": "HTMLModel",
     "state": {
      "_view_name": "HTMLView",
      "style": "IPY_MODEL_a13215bb2b50421e9eb69d37f98c273d",
      "_dom_classes": [],
      "description": "",
      "_model_name": "HTMLModel",
      "placeholder": "​",
      "_view_module": "@jupyter-widgets/controls",
      "_model_module_version": "1.5.0",
      "value": " 100/100 [01:23&lt;00:00,  1.20it/s]",
      "_view_count": null,
      "_view_module_version": "1.5.0",
      "description_tooltip": null,
      "_model_module": "@jupyter-widgets/controls",
      "layout": "IPY_MODEL_989126810fec47d0a18b0c6651fe35a6"
     }
    },
    "c2a013e9d2544fd0a2b97287fab3bd35": {
     "model_module": "@jupyter-widgets/controls",
     "model_name": "ProgressStyleModel",
     "state": {
      "_view_name": "StyleView",
      "_model_name": "ProgressStyleModel",
      "description_width": "initial",
      "_view_module": "@jupyter-widgets/base",
      "_model_module_version": "1.5.0",
      "_view_count": null,
      "_view_module_version": "1.2.0",
      "bar_color": null,
      "_model_module": "@jupyter-widgets/controls"
     }
    },
    "5da1e4a7f54549149f7adf86f5e2bd25": {
     "model_module": "@jupyter-widgets/base",
     "model_name": "LayoutModel",
     "state": {
      "_view_name": "LayoutView",
      "grid_template_rows": null,
      "right": null,
      "justify_content": null,
      "_view_module": "@jupyter-widgets/base",
      "overflow": null,
      "_model_module_version": "1.2.0",
      "_view_count": null,
      "flex_flow": null,
      "width": null,
      "min_width": null,
      "border": null,
      "align_items": null,
      "bottom": null,
      "_model_module": "@jupyter-widgets/base",
      "top": null,
      "grid_column": null,
      "overflow_y": null,
      "overflow_x": null,
      "grid_auto_flow": null,
      "grid_area": null,
      "grid_template_columns": null,
      "flex": null,
      "_model_name": "LayoutModel",
      "justify_items": null,
      "grid_row": null,
      "max_height": null,
      "align_content": null,
      "visibility": null,
      "align_self": null,
      "height": null,
      "min_height": null,
      "padding": null,
      "grid_auto_rows": null,
      "grid_gap": null,
      "max_width": null,
      "order": null,
      "_view_module_version": "1.2.0",
      "grid_template_areas": null,
      "object_position": null,
      "object_fit": null,
      "grid_auto_columns": null,
      "margin": null,
      "display": null,
      "left": null
     }
    },
    "a13215bb2b50421e9eb69d37f98c273d": {
     "model_module": "@jupyter-widgets/controls",
     "model_name": "DescriptionStyleModel",
     "state": {
      "_view_name": "StyleView",
      "_model_name": "DescriptionStyleModel",
      "description_width": "",
      "_view_module": "@jupyter-widgets/base",
      "_model_module_version": "1.5.0",
      "_view_count": null,
      "_view_module_version": "1.2.0",
      "_model_module": "@jupyter-widgets/controls"
     }
    },
    "989126810fec47d0a18b0c6651fe35a6": {
     "model_module": "@jupyter-widgets/base",
     "model_name": "LayoutModel",
     "state": {
      "_view_name": "LayoutView",
      "grid_template_rows": null,
      "right": null,
      "justify_content": null,
      "_view_module": "@jupyter-widgets/base",
      "overflow": null,
      "_model_module_version": "1.2.0",
      "_view_count": null,
      "flex_flow": null,
      "width": null,
      "min_width": null,
      "border": null,
      "align_items": null,
      "bottom": null,
      "_model_module": "@jupyter-widgets/base",
      "top": null,
      "grid_column": null,
      "overflow_y": null,
      "overflow_x": null,
      "grid_auto_flow": null,
      "grid_area": null,
      "grid_template_columns": null,
      "flex": null,
      "_model_name": "LayoutModel",
      "justify_items": null,
      "grid_row": null,
      "max_height": null,
      "align_content": null,
      "visibility": null,
      "align_self": null,
      "height": null,
      "min_height": null,
      "padding": null,
      "grid_auto_rows": null,
      "grid_gap": null,
      "max_width": null,
      "order": null,
      "_view_module_version": "1.2.0",
      "grid_template_areas": null,
      "object_position": null,
      "object_fit": null,
      "grid_auto_columns": null,
      "margin": null,
      "display": null,
      "left": null
     }
    }
   }
  }
 },
 "cells": [
  {
   "cell_type": "markdown",
   "metadata": {
    "id": "Ecbd_MJUEeC_"
   },
   "source": [
    "# **Project 5: \"Hold out vs K-Fold\" Cross Validation in LASSO Problem**\r\n",
    "\r\n",
    "#### Realised by: Alexandre Marquis et Mohamed Ali Jebali\r\n",
    "\r\n",
    "## **1. Introduction: Hyperparameter tuning**\r\n",
    "\r\n",
    "From its first appearance by Tibshirani (1996), the Lasso estimator has become one of the most common and useful tools in statistics, machine learning and other domains such as econometrics. Since that, many papers have been concerned with the optimal value of the regularization parameter, that we will denote $\\lambda_{reg}$ all along this project. \r\n",
    "\r\n",
    "Several methods for choosing this parameter exist and, during our project, we will try to introduce some theoretical and practical results about two famous model evaluation techniques: **Hold-Out and K-Fold Cross Validation** for solving the Lasso task.\r\n",
    "\r\n",
    "But how can we evaluate a lasso estimator $g(\\lambda_{reg})$ and decide if it is good or not without knowing the true risk $R(g(\\lambda_{reg}))$?\r\n",
    "\r\n",
    "In the following part, we will give a short statistical framework of our problem.\r\n",
    "\r\n",
    "## **2. Statistical Framework**\r\n",
    "\r\n",
    "### **2.1) The Lasso Framework**\r\n",
    "\r\n",
    "**Risk Minimization**\r\n",
    "\r\n",
    "We will consider the regression model:\r\n",
    "\r\n",
    "\\begin{equation}\r\n",
    "\\begin{array}{ll}\r\n",
    "Y=X^T\\theta+ \\epsilon & ; & E[\\epsilon|X]=0.\r\n",
    "\\end{array}\r\n",
    "\\end{equation}\r\n",
    "\r\n",
    "where $Y$ is a dependent variable in $\\mathbb{R}$, $X$ in $\\mathbb{R}^d$ a $d$-vector of covariates, $\\epsilon \\in \\mathbb{R}$ an observed noise and $\\theta$ a vector of coefficient in $\\mathbb{R}^d$.\r\n",
    "\r\n",
    "------------------------------------\r\n",
    "**ASSUMPTIONS**\r\n",
    "\r\n",
    "**For simplicity reasons, we will suppose that the vector $X$ consist of independent standard Gaussian random variable, that $\\theta$ is a sparse vector and that the conditional distribution of $\\epsilon|X$ is also a gaussian.**\r\n",
    "\r\n",
    "------------------------------------\r\n",
    "Let $P$ be a gaussian probability measure and suppose that we want to assess a quantity $g$ in the space $G_\\theta=\\left\\{ g(x) = \\theta^Tx : \\theta \\in \\mathbb{R}^d \\right\\}$ that minimizes the expected loss that we will call the true risk $R(g)$.\r\n",
    "\r\n",
    "\\begin{equation}\r\n",
    "R(g)=\\mathbb{E}_P[l(Z,g, \\lambda_{reg})]\r\n",
    "\\end{equation}\r\n",
    "\r\n",
    "where $Z=(X,Y)$ and  $l(Z,g, \\lambda_{reg})= (Y-g(X))^2 + \\lambda_{reg}||\\theta||_1$. \r\n",
    "\r\n",
    "\r\n",
    "The Lasso problem aims to find the best solution among the set $G=\\left\\{ g(x) = \\theta^Tx : \\theta \\in \\mathbb{R}^d \\right\\}$ that corresponds to finding the minimizer of the following lasso problem:\r\n",
    "\r\n",
    "\\begin{equation}\r\n",
    "\\hat{g}(\\lambda_{reg} ) = \\underset{g\\in G}{\\mathrm{argmin}}\\left\\{ (Y-g(X))^2 + \\lambda_{reg}||\\theta||_1 \\right\\} (1)\r\n",
    "\\end{equation}\r\n",
    "\r\n",
    "We clearly see that, to perform the lasso estimator $\\hat{g}(\\lambda_{reg})$, one has to choose an adequate value of $\\lambda_{reg}$ so that we obtain a consistent Lasso estimator. On the other hand, for a unsuitable value of the regularization parameter, the Lasso estimator may not be consistent and even have a slower rate of convergence.\r\n",
    "\r\n",
    "\r\n",
    "**Empirical Risk Minimization**\r\n",
    "\r\n",
    "Let be $(Z_i)_{i=1,...,n}=(X_i, Y_i)_{i=1,...,n}\\in (\\mathbb{R}^d\\times \\mathbb{R})^n$ be a random sample on  independent and identically distributed sequence of variables with common distribution $P$ as defined in the previous part.\r\n",
    "\r\n",
    "\r\n",
    "As we only have $n$ observations, we can not evaluate the true risk $R_\\lambda(\\hat{g}(\\lambda_{reg}))$ of our predictor, and we could only obtain the empirical risk minimizer solving the following problem:\r\n",
    "\r\n",
    "\\begin{equation}\r\n",
    "\\hat{g}(\\lambda_{reg}) = \\underset{g\\in G}{\\mathrm{argmin}}\\left\\{ \\frac{1}{n}\\sum_{i=1}^n (Y_i-g(X_i))^2 + \\lambda_{reg}||\\theta||_1 \\right\\} (2)\r\n",
    "\\end{equation}\r\n",
    "\r\n",
    "\\begin{equation}\r\n",
    "\\Leftrightarrow\r\n",
    "\\hat{\\theta}(\\lambda_{reg}) = \\underset{\\theta \\in \\mathbb{R}^d}{\\mathrm{argmin}}\\left\\{ \\frac{1}{n}\\sum_{i=1}^n (Y_i-\\theta^TX_i))^2 + \\lambda_{reg}||\\theta||_1 \\right\\} (3)\r\n",
    "\\end{equation}\r\n",
    "\r\n",
    "**To simplify notations, we will try to solve $(3)$ which is equivalent to $(2)$**\r\n",
    "\r\n",
    "In this context of penalized regression, our challenge will be to a tuning the best regularization parameter $\\lambda_{reg}$ among a range of possible values that we will denote $A_M=\\left\\{\\lambda_1, \\lambda_2 . . . , \\lambda_M\r\n",
    "\\right\\} $. This is a challenging task as it represents the importance of the $L_1$ penalization with respect to the $MSE$ loss.\r\n",
    "\r\n",
    "\r\n",
    "It is obvious that the risk $\\hat{R}(g(\\lambda_{reg}))=\\hat{R}(\\theta(\\lambda_{reg}))$ we are minimizing in \r\n",
    "**$(2)$** is a biased risk and depends on the samples we have. At this point, we can not assess our model with respect to the true risk $R(\\theta(\\lambda_{reg})$, but our challenge will be to estimate the true risk. In fact,\r\n",
    "\r\n",
    "\\begin{equation}\r\n",
    "\\hat{R}(\\theta(\\lambda_{reg})) \\leq R(\\theta(\\lambda_{reg})) \\Leftrightarrow \\mathbb{E}[\\hat{R}(\\theta(\\lambda_{reg}))] \\leq R(\\theta(\\lambda_{reg}))\r\n",
    "\\end{equation}\r\n",
    "\r\n",
    "\r\n",
    "So how can we get **the better estimate** $\\hat{R}(\\theta(\\lambda_{reg})$ of the **true risk** i.e How can we get the best regularization parameter $\\lambda_{reg}$?\r\n",
    "\r\n",
    "\r\n",
    "The two previously proposed approaches give some decent results that we will try to detail.\r\n",
    "\r\n",
    "### **1.a) Hold-Out Estimate**\r\n",
    "\r\n",
    "The main goal here is to cancel the bias associated to the estimation of $R(\\hat{\\theta}(\\lambda_{reg}))$. The main idea is to split the sample $\\left\\{1, . . . , n\r\n",
    "\\right\\}$ in two independent subsamples $S^C$ and its complement $S$, respectively called the training and the testing/holdout samples. \r\n",
    "\r\n",
    "As the training set will be used to compute $\\hat{\\theta}$ and then assess it using the holdout set, one could simply denote the minimizer$\\hat{\\theta}_{S^C}(\\lambda_{reg})$ and the risk we are minimizing as $\\hat{R}_{S}(\\hat{\\theta}_{S^C}(\\lambda_{reg}))$.\r\n",
    "\r\n",
    "With these notations, we can conclude that we obtain an unbiased estimator of the true risk with a variance $Var(\\hat{R}_S(\\hat{\\theta}_{S^C}(\\lambda_{reg})) = \\frac{1}{|S|}Var(l(Z_1,\\hat{\\theta}_{S^C}(\\lambda)) )$.\r\n",
    "\r\n",
    "**Model Selection**\r\n",
    "\r\n",
    "$\\forall \\lambda_k \\in A_M$, $k\\leq M$ ; we need to choose\r\n",
    "\r\n",
    "\\begin{equation}\r\n",
    "\\hat{\\lambda}_{reg} = \\underset{\\lambda_{reg} \\in A_M}{\\mathrm{argmin}}\\left\\{ \\frac{1}{n}\\sum_{i=1}^n (Y_i-\\hat{\\theta}_{S^C}(\\lambda_{reg})^TX_i)^2 \\right\\} (4)\r\n",
    "\r\n",
    "\\end{equation}\r\n",
    "\r\n",
    "### **1.b) K-Fold Cross Validation**\r\n",
    "\r\n",
    "Since the developement of computation power, the most commonly used method for model assessment is K-Fold cross validation. In a perfect setting, with plentiful data, independent test data could be used to estimate the prediction error of a number of candidate models. For the lasso, the candidate models are defined by the sequence of  values $A_M$. The optimal value of $\\lambda_{reg}$, denoted $\\hat{\\lambda_{reg}}$, could then be taken to be the value corresponding to the candidate model with the smallest prediction error. Let's try to describe this strategy:\r\n",
    "\r\n",
    "- Let $K\\in \\mathbb{N}^*$ be a strictly positive integer. First randomize the sample by applying a random permutation $(Z_{\\sigma(i)})_{i=1,...,n}$ in order to avoid any structure dependence.\r\n",
    "\r\n",
    "- Partition randomly the sample $\\left\\{1, . . . , n\\right\\}$ randomly into $K$-Folds. We will denote each fold $k$ as:\r\n",
    "\\begin{equation}\r\n",
    "\\begin{array}{ll}\r\n",
    "S_k=(X_{(k-1)p+1},..., X_{kp}) ; & k\\leq K ;& p=\\frac{K}{n} \\\\\r\n",
    "S_k \\cap S_{k'} = \\emptyset ; \\forall k\\neq k'\\leq K & and & \\cup S_k=[1,...n] \r\n",
    "\\end{array}\r\n",
    "\\end{equation}\r\n",
    "\r\n",
    "- For asymptotic analysis, we will assume that $K$ does not depend on $n$ as done in our lesson.\r\n",
    "\r\n",
    "- Withhold one of the  folds and fit each candidate model to the remaining  folds i.e compute the Lasso estimator .\r\n",
    "\r\n",
    "\\begin{equation}\r\n",
    "\\hat{\\theta}_{-k}(\\lambda_{reg}) = \\underset{\\theta \\in \\mathbb{R}^d}{\\mathrm{argmin}}\\left\\{ \\frac{1}{n-|S_k|}\\sum_{i\\notin S_k} (Y_i-\\theta^TX_i)^2 + \\lambda_{reg}||\\theta||_1 \\right\\} (5)\r\n",
    "\\end{equation}\r\n",
    "\r\n",
    "- Repeat steps 2–3 until each of the  folds of data have been withheld and aggregate the prediction errors obtained over the  folds.\r\n",
    "\r\n",
    "\\begin{equation}\r\n",
    "\\hat{R}_{CV}=\\frac{1}{K}\\sum_{k=1}^K \\sum_{i\\in S_k}(Y_i - \\hat{\\theta}_{-k}(\\lambda_{reg})^TX_i)^2\r\n",
    "\\end{equation}\r\n",
    "\r\n",
    "\r\n",
    "**Model Selection**\r\n",
    "\r\n",
    "The optimal value $\\hat{\\lambda}_{reg}$ is chosen to be the value that corresponds to the candidate model with the smallest aggregated prediction error.\r\n",
    "\r\n",
    "\r\n",
    "\\begin{equation}\r\n",
    "\\hat{\\lambda}_{reg} = \\underset{\\lambda_{reg} \\in A_M}{\\mathrm{argmin}}\\left\\{\\sum_{k=1}^{K}  \\sum_{i\\in S_k} (Y_i-\\hat{\\theta}_{-k}(\\lambda_{reg})^TX_i)^2 \\right\\} (6)\r\n",
    "\r\n",
    "\\end{equation}\r\n",
    "\r\n",
    "### **1.c) Differences between Holdout and K-Fold Cross Validation**\r\n",
    "\r\n",
    "- First of all, it is clear here that the K-Fold Cross Validation is **computationnaly** harder than the basic HoldOut. This is why it has not been used widely for solving the Lasso (or all Machine Learning problems in general) before the growth of the computational power of machines. \r\n",
    "\r\n",
    "- Second, one can notice that **the Holdout Risk** is biased and thus directly dependent on the choce of the **Training set** that we've denoted **S_C**. This problem is **completely** avoid in the $K$-Fold Cross Validation where the Risk is based on the whole dataset.\r\n",
    "\r\n",
    "- Third, The $K$-Fold Cross Validation permits to make a more powerful bound for the estimator and/or for the risk. In fact, in \"On Cross-Validated Lasso\" by Chetverikov and Liao, under the conditions we've mentionned in 2.1) (Sparsity of coefficients and the gaussian nature of the distributions), one can show that:\r\n",
    "\r\n",
    "\\begin{equation}\r\n",
    "|| \\hat{\\theta}_{CV}(\\hat{\\lambda})- \\theta ||_{2,n} \\lesssim \\sqrt{\\frac{s\\log(d)}{n}}.\\log^{\\frac{7}{8}}(dn)\r\n",
    "\\end{equation}\r\n",
    "with the same notations as in the statistical framework part."
   ]
  },
  {
   "cell_type": "markdown",
   "metadata": {
    "id": "Nav-K1DO8X_s"
   },
   "source": [
    "## **3. Code and Comments**\r\n",
    "\r\n",
    "In this part, we will try to implement and plot some results for the Lasso problem to compare the Holdout and the K-Fold cross validation."
   ]
  },
  {
   "cell_type": "markdown",
   "metadata": {
    "id": "bhF0DnF3G9qJ"
   },
   "source": [
    "### **3.1) Simulate the data for the Lasso Problem with previously mentionned assumptions.**"
   ]
  },
  {
   "cell_type": "code",
   "metadata": {
    "id": "9SSk_DK-cIK2"
   },
   "source": [
    "from sklearn.linear_model import Lasso\n",
    "from sklearn.model_selection import train_test_split\n",
    "from sklearn.model_selection import cross_val_score\n",
    "from sklearn.model_selection import GridSearchCV\n",
    "from sklearn.metrics import mean_squared_error\n",
    "\n",
    "from scipy.linalg.special_matrices import toeplitz\n",
    "import matplotlib.pyplot as plt\n",
    "import numpy as np\n",
    "import random\n",
    "import pandas as pd\n",
    "import warnings\n",
    "import time\n",
    "from tqdm.notebook import tqdm\n",
    "\n",
    "%matplotlib inline\n",
    "\n",
    "def warn(*args, **kwargs):\n",
    "    pass\n",
    "\n",
    "warnings.warn = warn"
   ],
   "execution_count": 1,
   "outputs": []
  },
  {
   "cell_type": "code",
   "metadata": {
    "colab": {
     "base_uri": "https://localhost:8080/",
     "height": 281
    },
    "id": "x53KeqAKhS7N",
    "outputId": "2943d17f-5499-4d26-c598-1fbf80ae6ffb"
   },
   "source": [
    "coefs = [1,3,0.3,0.2,-2,-4]\n",
    "alphas = np.linspace(0,4,101)\n",
    "param_gs = {'alpha': alphas}\n",
    "n_iter = 100\n",
    "plt.stem(coefs)\n",
    "plt.title(\"True Parameters\")\n",
    "plt.show()\n"
   ],
   "execution_count": 2,
   "outputs": [
    {
     "output_type": "display_data",
     "data": {
      "image/png": "[encoded data removed]",
      "text/plain": [
       "<Figure size 432x288 with 1 Axes>"
      ]
     },
     "metadata": {
      "tags": [],
      "needs_background": "light"
     }
    }
   ]
  },
  {
   "cell_type": "code",
   "metadata": {
    "id": "Bp02pjBOgwoY"
   },
   "source": [
    "def simu(n_samples=100, n_features= 5):\n",
    "\n",
    "  f = np.vectorize(lambda x : 1*x**5+3*x**4+0.3*x**3+0.2*x**2-2*x-4)\n",
    "  X = np.sort(np.random.uniform(-3,1.5, n_samples))\n",
    "  X_powered = (X[None]**np.arange(n_features)[:,None]).T\n",
    "  y = f(X) + np.random.normal(0,0.01, n_samples)\n",
    "  return X_powered, y\n",
    "\n"
   ],
   "execution_count": 3,
   "outputs": []
  },
  {
   "cell_type": "markdown",
   "metadata": {
    "id": "LwZ6bOeINxym"
   },
   "source": [
    "### **3.4) Studying the variance of Holdout and K-Folds Cross Validation**\r\n",
    "\r\n",
    "During this part, we will try to investigate more about the variance of each model selection strategy. As we've discussed before, we will show how much the variance of the K-Fold Cross Validation decreases as the number of folds $K$ increase, and is smaller than the Hold-Out Variance.\r\n",
    "\r\n",
    "We have used the GridSearchCV library from sklearn.model_selection to show some results."
   ]
  },
  {
   "cell_type": "code",
   "metadata": {
    "id": "rBcIDJaQoho9",
    "colab": {
     "base_uri": "https://localhost:8080/",
     "height": 446,
     "referenced_widgets": [
      "caa1012b51174cf5adfb66d095df3857",
      "cfb2571baacb46f091d75137bd509dd4",
      "243ccb4310ff4ea092e867a546b49573",
      "ffc9f51b27f84719b94bf5f64cc98a16",
      "038445fd49de4a28b0124443f7e3bc4f",
      "1b770b8de5c34ee59291cea4baa67724",
      "ebb31df2033f4c9ea7cfaa5a78370346",
      "0d498c82d53c4534a9b7330c66e2c478"
     ]
    },
    "outputId": "395fead4-7671-4159-a6f0-60f6e99c2f1b"
   },
   "source": [
    "def plot_var(n_samples = 1000):\r\n",
    "  X, y = simu(n_samples)\r\n",
    "  scores_cv = np.empty((n_iter, len(alphas)))\r\n",
    "  scores_ho = np.empty((n_iter, len(alphas)))\r\n",
    "  for i in tqdm(range(n_iter)):\r\n",
    "    p = np.random.permutation(list(range(len(y))))\r\n",
    "    X, y = X[p], y[p]\r\n",
    "    gs = GridSearchCV(Lasso(),param_gs,verbose=False)\r\n",
    "    gs.fit(X, y)\r\n",
    "    scores_cv[i] = gs.cv_results_['mean_test_score']\r\n",
    "\r\n",
    "    for k, alpha in enumerate(alphas) :\r\n",
    "      X_train, X_test, y_train, y_test = train_test_split(X,y)\r\n",
    "      gs = Lasso(alpha)\r\n",
    "      gs.fit(X_train, y_train)\r\n",
    "      score = gs.score(X_test,y_test)\r\n",
    "      scores_ho[i][k] = score\r\n",
    "\r\n",
    "  plt.rcParams.update({'font.size': 14})\r\n",
    "  f, (ax1, ax2, ax3) = plt.subplots(1, 3, figsize=(30, 7))\r\n",
    "  err =  np.array([np.mean(scores_cv, axis=0)- np.min(scores_cv, axis=0), np.max(scores_cv, axis=0)- np.mean(scores_cv, axis=0)])\r\n",
    "  ax1.errorbar(alphas,np.mean(scores_cv, axis=0), err, color='C0')\r\n",
    "  err =  np.array([np.mean(scores_ho, axis=0)- np.min(scores_ho, axis=0), np.max(scores_ho, axis=0)- np.mean(scores_ho, axis=0)])\r\n",
    "  ax2.errorbar(alphas,np.mean(scores_ho, axis=0), err , color='C1')\r\n",
    "  err =  np.array([np.mean(scores_cv, axis=0)- np.min(scores_cv, axis=0), np.max(scores_cv, axis=0)- np.mean(scores_cv, axis=0)])\r\n",
    "  plt.errorbar(alphas[0:10],np.mean(scores_cv, axis=0)[0:10], err[:,0:10], color='C0')\r\n",
    "  err =  np.array([np.mean(scores_ho, axis=0)- np.min(scores_ho, axis=0), np.max(scores_ho, axis=0)- np.mean(scores_ho, axis=0)])\r\n",
    "  ax3.errorbar(alphas[0:10],np.mean(scores_ho, axis=0)[0:10], err[:,0:10] , alpha=0.5, color='C1')\r\n",
    "  f.legend([\"5-Folds Cross-Validation\", \"20% Hold-Out\"])\r\n",
    "  f.suptitle(\"Mean/Variance of Lasso's score (Coefficient of Determination) over 100 iterations, \" +str(n_samples)+ \" samples\", fontsize=20, fontweight=\"bold\")\r\n",
    "  ax3.set_xlabel(\"Regularization Parameter\")\r\n",
    "  ax3.set_ylabel(\"Score\")\r\n",
    "  ax2.set_xlabel(\"Regularization Parameter\")\r\n",
    "  ax2.set_ylabel(\"Score\")\r\n",
    "  ax1.set_xlabel(\"Regularization Parameter\")\r\n",
    "  ax1.set_ylabel(\"Score\")\r\n",
    "  f.show()\r\n",
    "\r\n",
    "plot_var(1000)"
   ],
   "execution_count": 4,
   "outputs": [
    {
     "output_type": "display_data",
     "data": {
      "application/vnd.jupyter.widget-view+json": {
       "model_id": "caa1012b51174cf5adfb66d095df3857",
       "version_minor": 0,
       "version_major": 2
      },
      "text/plain": [
       "HBox(children=(FloatProgress(value=0.0), HTML(value='')))"
      ]
     },
     "metadata": {
      "tags": []
     }
    },
    {
     "output_type": "stream",
     "text": [
      "\n"
     ],
     "name": "stdout"
    },
    {
     "output_type": "display_data",
     "data": {
      "image/png": "[encoded data removed]",
      "text/plain": [
       "<Figure size 2160x504 with 3 Axes>"
      ]
     },
     "metadata": {
      "tags": [],
      "needs_background": "light"
     }
    }
   ]
  },
  {
   "cell_type": "markdown",
   "metadata": {
    "id": "yQf2zYFxjek0"
   },
   "source": [
    "On this first result we can clearly see that the variance of the Lasso's score estimated using the hold out technique is way higher than the variance using the Cross Validation. However the curve of the mean is sensibly the same between both methods."
   ]
  },
  {
   "cell_type": "code",
   "metadata": {
    "colab": {
     "base_uri": "https://localhost:8080/",
     "height": 446,
     "referenced_widgets": [
      "255b072c0ffc45ceae39cd43d30f41c2",
      "bab3491b929a4126812803556ab66eab",
      "f376955e1a13478791e182614975111a",
      "c66d8a33f7b14e36a0066ae4cde5fdb5",
      "a768dc48989f489d9d33e600bb8588f5",
      "e40145e7530245a785a194698925139f",
      "6f1ebc0583c54809b8b2c4b2f97768a6",
      "7e874196e701449287a878c887f5aafc"
     ]
    },
    "id": "pO9dTvBAi62P",
    "outputId": "4a192f7e-0175-4b65-9f2f-e350f571bf41"
   },
   "source": [
    "plot_var(100)"
   ],
   "execution_count": 5,
   "outputs": [
    {
     "output_type": "display_data",
     "data": {
      "application/vnd.jupyter.widget-view+json": {
       "model_id": "255b072c0ffc45ceae39cd43d30f41c2",
       "version_minor": 0,
       "version_major": 2
      },
      "text/plain": [
       "HBox(children=(FloatProgress(value=0.0), HTML(value='')))"
      ]
     },
     "metadata": {
      "tags": []
     }
    },
    {
     "output_type": "stream",
     "text": [
      "\n"
     ],
     "name": "stdout"
    },
    {
     "output_type": "display_data",
     "data": {
      "image/png": "[encoded data removed]",
      "text/plain": [
       "<Figure size 2160x504 with 3 Axes>"
      ]
     },
     "metadata": {
      "tags": [],
      "needs_background": "light"
     }
    }
   ]
  },
  {
   "cell_type": "markdown",
   "metadata": {
    "id": "CrKalbF6kL52"
   },
   "source": [
    "Here we reduced a lot the number of available samples. We can see that it increase a lot the variation for both methodes. However, the curve of the mean for the Hold out is totally deformed and is not close to the actual score of the Lasso model. So we cannot use the Hold out in this situation, we do not have enough samples."
   ]
  },
  {
   "cell_type": "markdown",
   "metadata": {
    "id": "fGuke8iJe8_j"
   },
   "source": [
    "In the part below, we will use the 'time' library to see the execution time of each strategy method on the sample. Even if the values and parameters of n_features and n_samples are not **very** high, we still have a large difference between the two strategies. So when working with some big data or using an online learning where the computational time is almost as important as the accuracy, we could choose the Holdout Validation over the K-Fold Cross Validation."
   ]
  },
  {
   "cell_type": "code",
   "metadata": {
    "colab": {
     "base_uri": "https://localhost:8080/",
     "height": 434,
     "referenced_widgets": [
      "79eb96b5ba0648068f78ebb8698c8bc1",
      "aa4c22f7adbe41d587513b3a258cafd3",
      "27c783faa1dc48a0bbd959cb5855c5a1",
      "ce630b7142dc49f79aa3b2ae1bfc9f09",
      "c2a013e9d2544fd0a2b97287fab3bd35",
      "5da1e4a7f54549149f7adf86f5e2bd25",
      "a13215bb2b50421e9eb69d37f98c273d",
      "989126810fec47d0a18b0c6651fe35a6"
     ]
    },
    "id": "heCdGDrIK3lK",
    "outputId": "cbf2a469-9227-4149-cbce-503dcdfaf2cc"
   },
   "source": [
    "scores_cv = np.empty(n_iter)\r\n",
    "scores_ho = np.empty(n_iter)\r\n",
    "\r\n",
    "time_cv=0\r\n",
    "time_ho=0\r\n",
    "\r\n",
    "for i in tqdm(range(n_iter)):\r\n",
    "  X, y = simu(1000)\r\n",
    "  X_train, X_test, y_train, y_test = train_test_split(X, y)\r\n",
    "\r\n",
    "  start_cv = time.time()\r\n",
    "  gs = GridSearchCV(Lasso(),param_gs,verbose=False, scoring='r2')\r\n",
    "  gs.fit(X_train, y_train)\r\n",
    "  best = gs.best_estimator_\r\n",
    "  best.fit(X_train, y_train)\r\n",
    "  y_pred = best.predict(X_test)\r\n",
    "  scores_cv[i] = mean_squared_error(y_test, y_pred, squared= False)\r\n",
    "  time_cv += time.time() - start_cv \r\n",
    "\r\n",
    "  X_train_lasso, X_test_lasso, y_train_lasso, y_test_lasso = train_test_split(X_train, y_train)\r\n",
    "  start_ho = time.time()\r\n",
    "  best_err = None\r\n",
    "  best_est = None\r\n",
    "  for k, alpha in enumerate(alphas) :\r\n",
    "    est = Lasso(alpha)\r\n",
    "    est.fit(X_train_lasso, y_train_lasso)\r\n",
    "    y_pred = est.predict(X_test_lasso) \r\n",
    "    err = mean_squared_error(y_test_lasso, y_pred, squared= False)\r\n",
    "    if best_err == None or err < best_err:\r\n",
    "      best_err = err\r\n",
    "      best_est = est\r\n",
    "  scores_ho[i] = mean_squared_error(y_test, best_est.predict(X_test), squared= False)\r\n",
    "  time_ho += time.time() - start_ho \r\n",
    "\r\n",
    "plt.boxplot([scores_ho, scores_cv], labels=[\"20% Hold-Out\", \"5-Folds Corss-Validation\"])\r\n",
    "plt.ylabel(\"RMSE\")\r\n",
    "plt.title(\"RMSE for Optimal Lasso over 100 iterations\", fontsize=20, fontweight=\"bold\")\r\n",
    "plt.show()\r\n",
    "models_initial = pd.DataFrame({\r\n",
    "    'Model Selection Strategy'       : ['20% Hold-Out',  '5-Folds Cross Validation'],\r\n",
    "    'Mean of Estimated risk': [ np.mean(scores_ho),  np.mean(scores_cv)],\r\n",
    "    'Variance of Estimated Risk': [np.var(scores_ho),  np.var(scores_cv)],\r\n",
    "    'Execution Time'    : [time_ho,  time_cv],\r\n",
    "    }, columns = ['Model Selection Strategy', 'Mean of Estimated risk', 'Variance of Estimated Risk', 'Execution Time'])\r\n",
    "\r\n",
    "models_initial.sort_values(by='Execution Time', ascending=True)"
   ],
   "execution_count": 6,
   "outputs": [
    {
     "output_type": "display_data",
     "data": {
      "application/vnd.jupyter.widget-view+json": {
       "model_id": "79eb96b5ba0648068f78ebb8698c8bc1",
       "version_minor": 0,
       "version_major": 2
      },
      "text/plain": [
       "HBox(children=(FloatProgress(value=0.0), HTML(value='')))"
      ]
     },
     "metadata": {
      "tags": []
     }
    },
    {
     "output_type": "stream",
     "text": [
      "\n"
     ],
     "name": "stdout"
    },
    {
     "output_type": "display_data",
     "data": {
      "image/png": "[encoded data removed]",
      "text/plain": [
       "<Figure size 432x288 with 1 Axes>"
      ]
     },
     "metadata": {
      "tags": [],
      "needs_background": "light"
     }
    },
    {
     "output_type": "execute_result",
     "data": {
      "text/html": [
       "<div>\n",
       "<style scoped>\n",
       "    .dataframe tbody tr th:only-of-type {\n",
       "        vertical-align: middle;\n",
       "    }\n",
       "\n",
       "    .dataframe tbody tr th {\n",
       "        vertical-align: top;\n",
       "    }\n",
       "\n",
       "    .dataframe thead th {\n",
       "        text-align: right;\n",
       "    }\n",
       "</style>\n",
       "<table border=\"1\" class=\"dataframe\">\n",
       "  <thead>\n",
       "    <tr style=\"text-align: right;\">\n",
       "      <th></th>\n",
       "      <th>Model Selection Strategy</th>\n",
       "      <th>Mean of Estimated risk</th>\n",
       "      <th>Variance of Estimated Risk</th>\n",
       "      <th>Execution Time</th>\n",
       "    </tr>\n",
       "  </thead>\n",
       "  <tbody>\n",
       "    <tr>\n",
       "      <th>0</th>\n",
       "      <td>20% Hold-Out</td>\n",
       "      <td>2.230079</td>\n",
       "      <td>0.011432</td>\n",
       "      <td>8.803227</td>\n",
       "    </tr>\n",
       "    <tr>\n",
       "      <th>1</th>\n",
       "      <td>5-Folds Cross Validation</td>\n",
       "      <td>2.218618</td>\n",
       "      <td>0.009472</td>\n",
       "      <td>73.761033</td>\n",
       "    </tr>\n",
       "  </tbody>\n",
       "</table>\n",
       "</div>"
      ],
      "text/plain": [
       "   Model Selection Strategy  ...  Execution Time\n",
       "0              20% Hold-Out  ...        8.803227\n",
       "1  5-Folds Cross Validation  ...       73.761033\n",
       "\n",
       "[2 rows x 4 columns]"
      ]
     },
     "metadata": {
      "tags": []
     },
     "execution_count": 6
    }
   ]
  },
  {
   "cell_type": "markdown",
   "metadata": {
    "id": "i6g4ygNAjsh3"
   },
   "source": [
    "## Conclusion\r\n",
    "\r\n",
    "We saw how both methods works and compared them on the case of a Lasso problem. The main idea that one should retain of our project is that in general K-Folds Cross Validation is better (with 5 folds at least) because it reduces a lot the variance of the estimated risk. However there are few cases when Hold Out could be prefered : when there is a constraint of time and/or computational power for cross validation, when a data leak from the test set to the training/validation set can have horrible consequences or when we want a clear independance between our test set and our training set.\r\n",
    "\r\n",
    "<figure>\r\n",
    "<center>\r\n",
    "<img src='https://drive.google.com/uc?id=1l4sNu0Gmbd9HclIqhtPO6v0YjuAJQAnE' style=\"display:flex;text-align:center;\" />\r\n",
    "<figcaption>Summary Table</figcaption></center>\r\n",
    "</figure>"
   ]
  }
 ]
}